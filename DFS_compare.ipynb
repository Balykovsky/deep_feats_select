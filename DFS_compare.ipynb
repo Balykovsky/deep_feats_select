{
 "cells": [
  {
   "cell_type": "code",
   "execution_count": 1,
   "metadata": {},
   "outputs": [],
   "source": [
    "import torch\n",
    "import torch.nn as nn\n",
    "import pandas as pd\n",
    "import numpy as np\n",
    "\n",
    "from copy import deepcopy\n",
    "from tqdm import tqdm\n",
    "\n",
    "from skorch import NeuralNetBinaryClassifier\n",
    "from matplotlib import pyplot as plt\n",
    "\n",
    "\n",
    "from sklearn import preprocessing\n",
    "from sklearn.metrics import f1_score\n",
    "from sklearn.model_selection import GridSearchCV, cross_val_score, train_test_split\n",
    "from sklearn.ensemble import RandomForestClassifier, GradientBoostingClassifier"
   ]
  },
  {
   "cell_type": "markdown",
   "metadata": {},
   "source": [
    "### Dataset"
   ]
  },
  {
   "cell_type": "code",
   "execution_count": 2,
   "metadata": {},
   "outputs": [
    {
     "data": {
      "text/html": [
       "<div>\n",
       "<style scoped>\n",
       "    .dataframe tbody tr th:only-of-type {\n",
       "        vertical-align: middle;\n",
       "    }\n",
       "\n",
       "    .dataframe tbody tr th {\n",
       "        vertical-align: top;\n",
       "    }\n",
       "\n",
       "    .dataframe thead th {\n",
       "        text-align: right;\n",
       "    }\n",
       "</style>\n",
       "<table border=\"1\" class=\"dataframe\">\n",
       "  <thead>\n",
       "    <tr style=\"text-align: right;\">\n",
       "      <th></th>\n",
       "      <th>feature-0</th>\n",
       "      <th>feature-1</th>\n",
       "      <th>feature-2</th>\n",
       "      <th>feature-3</th>\n",
       "      <th>feature-4</th>\n",
       "      <th>feature-5</th>\n",
       "      <th>feature-6</th>\n",
       "      <th>feature-7</th>\n",
       "      <th>feature-8</th>\n",
       "      <th>feature-9</th>\n",
       "      <th>...</th>\n",
       "      <th>feature-1515</th>\n",
       "      <th>feature-1516</th>\n",
       "      <th>feature-1517</th>\n",
       "      <th>feature-1518</th>\n",
       "      <th>feature-1519</th>\n",
       "      <th>feature-1520</th>\n",
       "      <th>feature-1521</th>\n",
       "      <th>feature-1522</th>\n",
       "      <th>feature-1523</th>\n",
       "      <th>y</th>\n",
       "    </tr>\n",
       "  </thead>\n",
       "  <tbody>\n",
       "    <tr>\n",
       "      <th>0</th>\n",
       "      <td>37.977273</td>\n",
       "      <td>6.758452</td>\n",
       "      <td>3.636364</td>\n",
       "      <td>10.792929</td>\n",
       "      <td>160.801682</td>\n",
       "      <td>151.109783</td>\n",
       "      <td>1.791689</td>\n",
       "      <td>6.818675</td>\n",
       "      <td>8.138413</td>\n",
       "      <td>8.270161</td>\n",
       "      <td>...</td>\n",
       "      <td>5.658393</td>\n",
       "      <td>4.151040</td>\n",
       "      <td>4.540632</td>\n",
       "      <td>4.953183</td>\n",
       "      <td>5.351562</td>\n",
       "      <td>5.311048</td>\n",
       "      <td>5.560922</td>\n",
       "      <td>5.643015</td>\n",
       "      <td>5.715999</td>\n",
       "      <td>0.0</td>\n",
       "    </tr>\n",
       "    <tr>\n",
       "      <th>1</th>\n",
       "      <td>19.408163</td>\n",
       "      <td>5.933978</td>\n",
       "      <td>2.816327</td>\n",
       "      <td>5.877551</td>\n",
       "      <td>162.949911</td>\n",
       "      <td>76.153796</td>\n",
       "      <td>1.381401</td>\n",
       "      <td>6.002651</td>\n",
       "      <td>5.080499</td>\n",
       "      <td>7.514421</td>\n",
       "      <td>...</td>\n",
       "      <td>4.830811</td>\n",
       "      <td>3.817712</td>\n",
       "      <td>4.123094</td>\n",
       "      <td>4.426343</td>\n",
       "      <td>4.823804</td>\n",
       "      <td>4.652173</td>\n",
       "      <td>4.795274</td>\n",
       "      <td>4.860781</td>\n",
       "      <td>5.001426</td>\n",
       "      <td>0.0</td>\n",
       "    </tr>\n",
       "    <tr>\n",
       "      <th>2</th>\n",
       "      <td>40.265306</td>\n",
       "      <td>7.425645</td>\n",
       "      <td>3.734694</td>\n",
       "      <td>13.160998</td>\n",
       "      <td>172.099640</td>\n",
       "      <td>161.790879</td>\n",
       "      <td>1.603976</td>\n",
       "      <td>7.410120</td>\n",
       "      <td>10.114794</td>\n",
       "      <td>8.805738</td>\n",
       "      <td>...</td>\n",
       "      <td>6.397659</td>\n",
       "      <td>4.223177</td>\n",
       "      <td>4.685597</td>\n",
       "      <td>5.116870</td>\n",
       "      <td>5.333926</td>\n",
       "      <td>5.504569</td>\n",
       "      <td>5.797956</td>\n",
       "      <td>6.009581</td>\n",
       "      <td>6.200889</td>\n",
       "      <td>0.0</td>\n",
       "    </tr>\n",
       "  </tbody>\n",
       "</table>\n",
       "<p>3 rows × 1525 columns</p>\n",
       "</div>"
      ],
      "text/plain": [
       "   feature-0  feature-1  feature-2  feature-3   feature-4   feature-5  \\\n",
       "0  37.977273   6.758452   3.636364  10.792929  160.801682  151.109783   \n",
       "1  19.408163   5.933978   2.816327   5.877551  162.949911   76.153796   \n",
       "2  40.265306   7.425645   3.734694  13.160998  172.099640  161.790879   \n",
       "\n",
       "   feature-6  feature-7  feature-8  feature-9  ...  feature-1515  \\\n",
       "0   1.791689   6.818675   8.138413   8.270161  ...      5.658393   \n",
       "1   1.381401   6.002651   5.080499   7.514421  ...      4.830811   \n",
       "2   1.603976   7.410120  10.114794   8.805738  ...      6.397659   \n",
       "\n",
       "   feature-1516  feature-1517  feature-1518  feature-1519  feature-1520  \\\n",
       "0      4.151040      4.540632      4.953183      5.351562      5.311048   \n",
       "1      3.817712      4.123094      4.426343      4.823804      4.652173   \n",
       "2      4.223177      4.685597      5.116870      5.333926      5.504569   \n",
       "\n",
       "   feature-1521  feature-1522  feature-1523    y  \n",
       "0      5.560922      5.643015      5.715999  0.0  \n",
       "1      4.795274      4.860781      5.001426  0.0  \n",
       "2      5.797956      6.009581      6.200889  0.0  \n",
       "\n",
       "[3 rows x 1525 columns]"
      ]
     },
     "execution_count": 2,
     "metadata": {},
     "output_type": "execute_result"
    }
   ],
   "source": [
    "df = pd.read_csv('train.csv')\n",
    "df.head(3)"
   ]
  },
  {
   "cell_type": "code",
   "execution_count": 3,
   "metadata": {},
   "outputs": [],
   "source": [
    "# normalize\n",
    "numpy_data = df.to_numpy(dtype=np.float32, copy=True)\n",
    "data = numpy_data[:, :-1]\n",
    "target = numpy_data[:, -1]\n",
    "\n",
    "min_max_scaler = preprocessing.MinMaxScaler()\n",
    "data = min_max_scaler.fit_transform(data)"
   ]
  },
  {
   "cell_type": "code",
   "execution_count": 4,
   "metadata": {},
   "outputs": [],
   "source": [
    "train_data, val_data, train_target, val_target = train_test_split(data, target, stratify=target, test_size=0.2)"
   ]
  },
  {
   "cell_type": "code",
   "execution_count": 8,
   "metadata": {},
   "outputs": [],
   "source": [
    "class Dataset_(torch.utils.data.Dataset):\n",
    "    def __init__(self, data, target):\n",
    "        self._data = data\n",
    "        self._target = np.expand_dims(target, -1)\n",
    "        \n",
    "    def __getitem__(self, idx):\n",
    "        return torch.from_numpy(self._data[idx]), torch.from_numpy(self._target[idx]) \n",
    "    \n",
    "    def __len__(self):\n",
    "        return len(self._target)"
   ]
  },
  {
   "cell_type": "markdown",
   "metadata": {},
   "source": [
    "### Models"
   ]
  },
  {
   "cell_type": "markdown",
   "metadata": {},
   "source": [
    "#### 1. MLP"
   ]
  },
  {
   "cell_type": "code",
   "execution_count": 12,
   "metadata": {},
   "outputs": [],
   "source": [
    "class MLP(nn.Module):\n",
    "    def __init__(self, in_feats=1524, dfs=False):\n",
    "        super().__init__()\n",
    "        self.dfs = dfs\n",
    "        self.dfs_layer = nn.Linear(in_feats, in_feats)\n",
    "        self.layer1 = nn.Linear(in_feats, 500)\n",
    "        self.dropout = nn.Dropout(0.2)\n",
    "        self.relu = nn.ReLU()\n",
    "        self.layer2 = nn.Linear(500, 100)\n",
    "        self.out_layer = nn.Linear(100, 1)\n",
    "        self.sigmoid = nn.Sigmoid()\n",
    "    \n",
    "    def forward(self, x):\n",
    "        if self.dfs:\n",
    "            w = self.dfs_layer.weight\n",
    "            self.dfs_layer.weight = torch.nn.Parameter(w*torch.eye(w.size(0)))\n",
    "            x = self.dfs_layer(x)\n",
    "        x = self.relu(self.layer1(x))\n",
    "        x = self.dropout(x)\n",
    "        x = self.relu(self.layer2(x))\n",
    "        out = self.sigmoid(self.out_layer(x))\n",
    "        return out"
   ]
  },
  {
   "cell_type": "code",
   "execution_count": 92,
   "metadata": {},
   "outputs": [],
   "source": [
    "def train_step(model, train_loader, optimizer, criterion):\n",
    "    model.train()\n",
    "    mean_loss = 0\n",
    "    total = 0\n",
    "    \n",
    "    for i, (data, target) in enumerate(train_loader):\n",
    "        optimizer.zero_grad()\n",
    "        out = model(data)\n",
    "        loss = criterion(out, target)\n",
    "        loss.backward()\n",
    "        optimizer.step()\n",
    "        mean_loss += loss.item()\n",
    "        total += target.size(0)\n",
    "    \n",
    "    return mean_loss / total\n",
    "\n",
    "def val_step(model, val_loader, optimizer, criterion):\n",
    "    model.eval()\n",
    "    \n",
    "    with torch.no_grad():\n",
    "        mean_loss = 0\n",
    "        f1 = []\n",
    "        total = 0\n",
    "        for i, (data, target) in enumerate(val_loader):\n",
    "            out = model(data)\n",
    "            \n",
    "            loss = criterion(out, target)\n",
    "            mean_loss += loss.item()\n",
    "            out = torch.squeeze(out).data.numpy()\n",
    "            pred = np.where(out > 0.4, 1., 0.)\n",
    "            f1.append(f1_score(pred, target.data.numpy()))\n",
    "            total += data.size(0)\n",
    "    \n",
    "    return mean_loss / total, f1\n",
    "\n",
    "def train_mlp(model, opt, crit, epochs_num, train_loader, val_loader):\n",
    "    f1_scores = []\n",
    "    for epoch in range(epochs_num):\n",
    "        train_loss = train_step(model, train_loader, optimizer, criterion)\n",
    "        val_loss, f1 = val_step(model, val_loader, optimizer, criterion)\n",
    "        f1_scores.append(np.mean(f1))\n",
    "        \n",
    "#         print(f'Epoch [{epoch+1}/{epochs_num}] | Loss (train/val): {train_loss:.4f}/{val_loss:.4f}')\n",
    "    return f1_scores"
   ]
  },
  {
   "cell_type": "markdown",
   "metadata": {},
   "source": [
    "##### train with DFS layer\n"
   ]
  },
  {
   "cell_type": "code",
   "execution_count": 62,
   "metadata": {},
   "outputs": [
    {
     "data": {
      "text/plain": [
       "[0.0,\n",
       " 0.8326463982722274,\n",
       " 0.8291438345884806,\n",
       " 0.8298756760112802,\n",
       " 0.8332545622544203,\n",
       " 0.8306072840014734,\n",
       " 0.8282484778891342,\n",
       " 0.8339756104461985,\n",
       " 0.8326602929037007,\n",
       " 0.8317811011044094,\n",
       " 0.832724932013585,\n",
       " 0.8336854819334604,\n",
       " 0.8327212813723206,\n",
       " 0.8326871474097052,\n",
       " 0.8339756104461985,\n",
       " 0.8310447458644248,\n",
       " 0.8330702585407048,\n",
       " 0.8321194302575748,\n",
       " 0.8327120069332743,\n",
       " 0.829589119286597]"
      ]
     },
     "execution_count": 62,
     "metadata": {},
     "output_type": "execute_result"
    }
   ],
   "source": [
    "# parameters\n",
    "model_dfs = MLP(dfs=True)\n",
    "train_dataset = Dataset_(train_data, train_target)\n",
    "val_dataset = Dataset_(val_data, val_target)\n",
    "\n",
    "optimizer = torch.optim.Adam(model_dfs.parameters(), lr=1e-4)\n",
    "criterion = torch.nn.BCELoss()\n",
    "\n",
    "full_train = torch.utils.data.DataLoader(dataset=train_dataset,\n",
    "                                           batch_size=32, \n",
    "                                           shuffle=True)\n",
    "full_val = torch.utils.data.DataLoader(dataset=val_dataset,\n",
    "                                           batch_size=32, \n",
    "                                           shuffle=True)\n",
    "\n",
    "train_mlp(model_dfs, optimizer, criterion, 50, full_train, full_val)"
   ]
  },
  {
   "cell_type": "code",
   "execution_count": 32,
   "metadata": {},
   "outputs": [],
   "source": [
    "# get feature-importance list\n",
    "dfs_weights = model_dfs.dfs_layer.weight.data.numpy()\n",
    "dfs_desc = np.argsort(np.max(np.abs(dfs_weights), axis=-1))[::-1]"
   ]
  },
  {
   "cell_type": "markdown",
   "metadata": {},
   "source": [
    "#### 2. Random forest"
   ]
  },
  {
   "cell_type": "code",
   "execution_count": null,
   "metadata": {},
   "outputs": [],
   "source": [
    "rf_base = RandomForestClassifier()\n",
    "\n",
    "# grid search best params\n",
    "params = {'n_estimators': [50, 100, 200], \n",
    "          'max_depth': [70,90,110], \n",
    "          'min_samples_leaf': [2, 3, 5]}\n",
    "\n",
    "rf_grid_search = GridSearchCV(rf_base, refit=True, param_grid = params, \n",
    "                              scoring='f1', cv=2)\n",
    "rf_grid_search.fit(data, target)"
   ]
  },
  {
   "cell_type": "code",
   "execution_count": 39,
   "metadata": {},
   "outputs": [],
   "source": [
    "# get feature-importance list\n",
    "rf_desc = np.argsort(rf_grid_search.best_estimator_.feature_importances_)[::-1]"
   ]
  },
  {
   "cell_type": "markdown",
   "metadata": {},
   "source": [
    "#### 3. Gradient boosting classifier"
   ]
  },
  {
   "cell_type": "code",
   "execution_count": null,
   "metadata": {},
   "outputs": [],
   "source": [
    "gb_base = GradientBoostingClassifier()\n",
    "\n",
    "# grid search best params\n",
    "params = {'n_estimators': [10, 20, 50], \n",
    "          'learning_rate': [0.01, 0.05, 0.1],\n",
    "          'min_samples_leaf': [1, 2, 3]}\n",
    "\n",
    "gb_grid_search = GridSearchCV(gb_base, refit=True, param_grid = params, \n",
    "                              scoring='f1', cv=2)\n",
    "gb_grid_search.fit(data, target)"
   ]
  },
  {
   "cell_type": "code",
   "execution_count": 43,
   "metadata": {},
   "outputs": [],
   "source": [
    "# get feature-importance list\n",
    "gb_desc = np.argsort(gb_grid_search.best_estimator_.feature_importances_)[::-1]"
   ]
  },
  {
   "cell_type": "markdown",
   "metadata": {},
   "source": [
    "### Feature selection comparison "
   ]
  },
  {
   "cell_type": "code",
   "execution_count": 84,
   "metadata": {},
   "outputs": [],
   "source": [
    "feat_importance = {'dfs': dfs_desc, 'gboost': gb_desc, 'random_forest': rf_desc}\n",
    "num_feats = [100, 200, 400, 600, 800, 1000]\n",
    "rf = RandomForestClassifier(**rf_grid_search.best_params_)\n",
    "gb = GradientBoostingClassifier(**gb_grid_search.best_params_)\n",
    "mlp = MLP()\n",
    "\n",
    "rf_res = {k:[] for k,v in feat_importance.items()}\n",
    "mlp_res, gb_res = deepcopy(rf_res), deepcopy(rf_res)\n",
    "models_res = [[mlp, mlp_res], [gb, gb_res], [rf, rf_res]]"
   ]
  },
  {
   "cell_type": "code",
   "execution_count": null,
   "metadata": {},
   "outputs": [],
   "source": [
    "for n in num_feats:\n",
    "    for method, desc in feat_importance.items():\n",
    "        reduced_train = train_data[:, desc[:n]]\n",
    "        reduced_val = val_data[:, desc[:n]]\n",
    "        for elem in models_res:\n",
    "            model = elem[0]\n",
    "        \n",
    "            if isinstance(model, MLP):\n",
    "                model = MLP(in_feats=n)\n",
    "                train_dataset = Dataset_(reduced_train, train_target)\n",
    "                val_dataset = Dataset_(reduced_val, val_target)\n",
    "                train = torch.utils.data.DataLoader(dataset=train_dataset,\n",
    "                                                    batch_size=32, \n",
    "                                                    shuffle=True)\n",
    "                val = torch.utils.data.DataLoader(dataset=val_dataset,\n",
    "                                                  batch_size=32, \n",
    "                                                  shuffle=True)\n",
    "                score = train_mlp(model, optimizer, criterion, 50, train, val)\n",
    "                elem[1][method].append([n, np.mean(score)])\n",
    "                continue\n",
    "            \n",
    "            model.fit(reduced_train, train_target)\n",
    "            pred = model.predict(reduced_val)\n",
    "            score = f1_score(pred, val_target)\n",
    "            elem[1][method].append([n, score])"
   ]
  },
  {
   "cell_type": "code",
   "execution_count": 88,
   "metadata": {},
   "outputs": [],
   "source": [
    "def plot_results(result, model):\n",
    "    for k, v in result.items():\n",
    "        plt.plot(np.array(v)[:, 0], np.array(v)[:, 1], marker='o')\n",
    "    plt.legend(list(rf_res.keys()))\n",
    "    plt.title(model)\n",
    "    plt.xlabel('num_features')\n",
    "    plt.ylabel('f1-score')"
   ]
  },
  {
   "cell_type": "code",
   "execution_count": 89,
   "metadata": {},
   "outputs": [
    {
     "data": {
      "image/png": "[encoded data removed]",
      "text/plain": [
       "<Figure size 432x288 with 1 Axes>"
      ]
     },
     "metadata": {
      "needs_background": "light"
     },
     "output_type": "display_data"
    }
   ],
   "source": [
    "plot_results(gb_res, 'Gradient boosting classifier')"
   ]
  },
  {
   "cell_type": "code",
   "execution_count": 90,
   "metadata": {},
   "outputs": [
    {
     "data": {
      "image/png": "[encoded data removed]",
      "text/plain": [
       "<Figure size 432x288 with 1 Axes>"
      ]
     },
     "metadata": {
      "needs_background": "light"
     },
     "output_type": "display_data"
    }
   ],
   "source": [
    "plot_results(rf_res, 'Random forest classifier')"
   ]
  },
  {
   "cell_type": "code",
   "execution_count": 91,
   "metadata": {},
   "outputs": [
    {
     "data": {
      "image/png": "[encoded data removed]",
      "text/plain": [
       "<Figure size 432x288 with 1 Axes>"
      ]
     },
     "metadata": {
      "needs_background": "light"
     },
     "output_type": "display_data"
    }
   ],
   "source": [
    "plot_results(mlp_res, 'MLP classifier')"
   ]
  }
 ],
 "metadata": {
  "kernelspec": {
   "display_name": "Python 3",
   "language": "python",
   "name": "python3"
  },
  "language_info": {
   "codemirror_mode": {
    "name": "ipython",
    "version": 3
   },
   "file_extension": ".py",
   "mimetype": "text/x-python",
   "name": "python",
   "nbconvert_exporter": "python",
   "pygments_lexer": "ipython3",
   "version": "3.6.8"
  }
 },
 "nbformat": 4,
 "nbformat_minor": 2
}
